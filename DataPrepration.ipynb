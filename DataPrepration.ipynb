{
 "cells": [
  {
   "cell_type": "markdown",
   "id": "653c19ac-549a-4644-b5b2-fb44a9d94975",
   "metadata": {},
   "source": [
    "# Data Prepration for YOLOv5\n",
    "\n"
   ]
  },
  {
   "cell_type": "code",
   "execution_count": 1,
   "id": "9cb26338-1867-49ab-b424-6b04426cf276",
   "metadata": {},
   "outputs": [],
   "source": [
    "# imports\n",
    "import shutil\n",
    "import json\n",
    "from random import random\n",
    "import numpy as np\n",
    "import os"
   ]
  },
  {
   "cell_type": "markdown",
   "id": "e84dd396-1890-43d1-aae0-aa930625ce3f",
   "metadata": {},
   "source": [
    "The YOLOv5 docs recommend a split 80% training, 10% validation and 10% test. Considering the decent size of dataset we will have plenty of examples in both datasets"
   ]
  },
  {
   "cell_type": "code",
   "execution_count": 2,
   "id": "4108f5b0-c865-454a-84eb-2ec79a4f80c9",
   "metadata": {},
   "outputs": [],
   "source": [
    "TRAIN_SPLIT = 0.8\n",
    "TEST_SPLIT = 0.1\n",
    "VAL_SPLIT = 0.1\n",
    "DATASET_PATH = \"Implementation/dataset/\""
   ]
  },
  {
   "cell_type": "markdown",
   "id": "8f3aa04f-d8b3-4655-8625-d568e31b71f8",
   "metadata": {},
   "source": [
    "Loading merged annotations"
   ]
  },
  {
   "cell_type": "code",
   "execution_count": 3,
   "id": "21d3047a-6051-4732-ae8b-9431c4a9f96a",
   "metadata": {},
   "outputs": [],
   "source": [
    "annotations = json.load(open(\"full_annotations.json\"))"
   ]
  },
  {
   "cell_type": "markdown",
   "id": "849ad191-04ac-4223-a5aa-747935e31133",
   "metadata": {},
   "source": [
    "To speed up the process we will be dividing the dataset based on a uniform random distribution, where probability of ending up in trianing, validation, and test is 80%, 10% and 10% respectively. Considering the large size of dataset we choose this to speed up the combined dataset creation."
   ]
  },
  {
   "cell_type": "code",
   "execution_count": 4,
   "id": "4f695ff4-be61-4ef2-be26-9b208a1e98eb",
   "metadata": {},
   "outputs": [
    {
     "data": {
      "text/plain": [
       "(4038, 483, 479)"
      ]
     },
     "execution_count": 4,
     "metadata": {},
     "output_type": "execute_result"
    }
   ],
   "source": [
    "train = 0\n",
    "test = 0\n",
    "val = 0\n",
    "for i in range(5000):\n",
    "    s = random()\n",
    "    if s <= 0.8:\n",
    "        train += 1\n",
    "    elif s <= 0.9:\n",
    "        test += 1\n",
    "    else:\n",
    "        val += 1\n",
    "\n",
    "        \n",
    "train, test, val"
   ]
  },
  {
   "cell_type": "code",
   "execution_count": 5,
   "id": "da52990b-e195-4ea9-847c-0c00abff5380",
   "metadata": {},
   "outputs": [
    {
     "data": {
      "text/plain": [
       "({'iscrowd': 0,\n",
       "  'image_id': 1,\n",
       "  'bbox': [877.0, 119.0, 23.0, 8.0],\n",
       "  'segmentation': [],\n",
       "  'category_id': 2,\n",
       "  'id': 1,\n",
       "  'area': 184},\n",
       " {'height': 720,\n",
       "  'width': 1280,\n",
       "  'id': 1,\n",
       "  'file_name': 'KILI_COCO/batch_1/000001.jpg'})"
      ]
     },
     "execution_count": 5,
     "metadata": {},
     "output_type": "execute_result"
    }
   ],
   "source": [
    "annotations[\"annotations\"][0], annotations[\"images\"][0]"
   ]
  },
  {
   "cell_type": "markdown",
   "id": "1bbaefd2-9168-4e2b-a991-aa9658f2a7bd",
   "metadata": {},
   "source": [
    "Original annotation : \\[x_min, y_min, width, height\\]  \n",
    "Updated annotation (YOLO): \\[cx, cy, width, height\\] (norm)"
   ]
  },
  {
   "cell_type": "code",
   "execution_count": 4,
   "id": "3b52abed-d0aa-4321-b1f5-bffc88f4ebeb",
   "metadata": {},
   "outputs": [],
   "source": [
    "def yoloBbox(bbox, imageW, imageH):\n",
    "    cx = (bbox[0] + bbox[2]/2)/imageW\n",
    "    cy = (bbox[1] + bbox[3]/2)/imageH\n",
    "    \n",
    "    return [cx, cy, bbox[2]/imageW, bbox[3]/imageH]"
   ]
  },
  {
   "cell_type": "code",
   "execution_count": 5,
   "id": "c53dccf0-463c-48af-9dfe-3b88dfd5c676",
   "metadata": {},
   "outputs": [],
   "source": [
    "def getSplit():\n",
    "    s = random()\n",
    "    if s <= TRAIN_SPLIT:\n",
    "        return \"train\"\n",
    "    elif s <= TRAIN_SPLIT + VAL_SPLIT:\n",
    "        return \"val\"\n",
    "    else:\n",
    "        return \"test\""
   ]
  },
  {
   "cell_type": "code",
   "execution_count": 7,
   "id": "96d34003-b885-46fa-9182-1cc2b4adb247",
   "metadata": {},
   "outputs": [],
   "source": [
    "def writeBbox(bboxes, filePath):\n",
    "    with open(filePath, \"w\") as f:\n",
    "        text = \"\"\n",
    "        for bbox in bboxes:\n",
    "            text += f\"{bbox[0]} \"\n",
    "            text += \" \".join([str(c) for c in bbox[1]])\n",
    "            text += \"\\n\"\n",
    "        f.write(text)"
   ]
  },
  {
   "cell_type": "code",
   "execution_count": 9,
   "id": "2e0b3217-8837-4cfa-a482-740358931226",
   "metadata": {},
   "outputs": [
    {
     "data": {
      "text/plain": [
       "{'iscrowd': 0,\n",
       " 'image_id': 2,\n",
       " 'bbox': [988.0, 493.0, 34.0, 22.0],\n",
       " 'segmentation': [],\n",
       " 'category_id': 1,\n",
       " 'id': 3,\n",
       " 'area': 748}"
      ]
     },
     "execution_count": 9,
     "metadata": {},
     "output_type": "execute_result"
    }
   ],
   "source": [
    "annotations[\"annotations\"][2]"
   ]
  },
  {
   "cell_type": "code",
   "execution_count": 17,
   "id": "53b14c05-a179-458e-b475-928c03f7e99f",
   "metadata": {},
   "outputs": [
    {
     "name": "stderr",
     "output_type": "stream",
     "text": [
      "'rm' is not recognized as an internal or external command,\n",
      "operable program or batch file.\n"
     ]
    }
   ],
   "source": [
    "# initialize directories\n",
    "\n",
    "# clear all contents\n",
    "!rm -rf Implementation/dataset/"
   ]
  },
  {
   "cell_type": "code",
   "execution_count": 8,
   "id": "09563086-3aaf-45b3-83f4-530c6b4f9670",
   "metadata": {},
   "outputs": [],
   "source": [
    "# create dirs\n",
    "%mkdir \"Implementation/dataset/images\"\n",
    "%mkdir \"Implementation/dataset/labels\"\n",
    "\n",
    "%mkdir \"Implementation/dataset/images/train\"\n",
    "%mkdir \"Implementation/dataset/images/val\"\n",
    "%mkdir \"Implementation/dataset/images/test\"\n",
    "\n",
    "%mkdir \"Implementation/dataset/labels/train\"\n",
    "%mkdir \"Implementation/dataset/labels/val\"\n",
    "%mkdir \"Implementation/dataset/labels/test\"\n",
    "\n",
    "with open(\"Implementation/dataset/dataset.yaml\", \"w\") as f:\n",
    "    f.write(\"\"\"# train, val and test data\n",
    "train: ../dataset/images/train/\n",
    "val: ../dataset/images/val/\n",
    "test: ../dataset/images/test/\n",
    "\n",
    "# number of classes\n",
    "nc: 4\n",
    "\n",
    "# class names\n",
    "names: [\"Plastic bag\", \"Plastic bottle\", \"Plastic other\", \"Non plastic waste\"]\"\"\")"
   ]
  },
  {
   "cell_type": "code",
   "execution_count": 9,
   "id": "f2121475-3ed5-4ab6-963e-e652f4ece45e",
   "metadata": {},
   "outputs": [
    {
     "name": "stdout",
     "output_type": "stream",
     "text": [
      "Image: 5758\r"
     ]
    }
   ],
   "source": [
    "img_idx = 0\n",
    "annotation_idx = 0\n",
    "\n",
    "# number of images\n",
    "N_IMAGES = len(annotations[\"images\"])\n",
    "# N_IMAGES = 100\n",
    "\n",
    "# looping over every image\n",
    "while img_idx < N_IMAGES:\n",
    "    # get the image\n",
    "    img_data = annotations[\"images\"][img_idx]\n",
    "    \n",
    "    # get annotations\n",
    "    img_annotations = []\n",
    "    while (annotation_idx < len(annotations[\"annotations\"]) \n",
    "           and annotations[\"annotations\"][annotation_idx][\"image_id\"] == img_data[\"id\"]):\n",
    "        bbox = annotations[\"annotations\"][annotation_idx][\"bbox\"]\n",
    "        if len(bbox) == 4:\n",
    "            img_annotations += [(annotations[\"annotations\"][annotation_idx][\"category_id\"],\n",
    "                                yoloBbox(bbox, img_data[\"width\"], img_data[\"height\"]))]\n",
    "        \n",
    "        annotation_idx += 1\n",
    "    \n",
    "    # copying them into files    \n",
    "    split = getSplit()\n",
    "    \n",
    "    if os.path.exists(img_data[\"file_name\"]):\n",
    "        # copying image\n",
    "        shutil.copy(img_data[\"file_name\"],\n",
    "                   os.path.join(DATASET_PATH, \"images\", split, f\"{img_idx}.jpg\"))\n",
    "\n",
    "        # creating labels\n",
    "        writeBbox(img_annotations, os.path.join(DATASET_PATH,\n",
    "                                               \"labels\",\n",
    "                                               split,\n",
    "                                               f\"{img_idx}.txt\"))\n",
    "    \n",
    "    print(f\"Image: {img_idx}\", end=\"\\r\")\n",
    "    img_idx += 1\n",
    "    "
   ]
  },
  {
   "cell_type": "markdown",
   "id": "08b1ec93-0ea4-4677-a04b-6fd815cb28c1",
   "metadata": {},
   "source": [
    "Data Split done"
   ]
  },
  {
   "cell_type": "markdown",
   "id": "d3fad6a7-5fdc-4c86-a817-da900744eb3e",
   "metadata": {},
   "source": [
    "## Experiments\n",
    "\n",
    "Picking categroies:\n",
    "1. Plastic all, no other waste (Binary classification) \n",
    "1. Plastic bottles, plastic bags\n",
    "\n",
    "Changing just the labels folders"
   ]
  },
  {
   "cell_type": "markdown",
   "id": "083d8117-039d-4da9-b52a-c613a71f9977",
   "metadata": {},
   "source": [
    "### Method 1"
   ]
  },
  {
   "cell_type": "markdown",
   "id": "0ad6eb57-3690-404b-9559-51ec64d20266",
   "metadata": {},
   "source": [
    "creating directories for labesl"
   ]
  },
  {
   "cell_type": "code",
   "execution_count": null,
   "id": "11c3ff9d-a490-41f6-bfba-3adb10fc9049",
   "metadata": {},
   "outputs": [],
   "source": [
    "%mkdir \"Implementation/dataset/labels_bi\"\n",
    "\n",
    "%mkdir \"Implementation/dataset/labels_bi/test\"\n",
    "%mkdir \"Implementation/dataset/labels_bi/train\"\n",
    "%mkdir \"Implementation/dataset/labels_bi/val\""
   ]
  },
  {
   "cell_type": "code",
   "execution_count": 19,
   "id": "f49397c6-fb9e-4f84-8cc8-a7e4d17aed2d",
   "metadata": {},
   "outputs": [
    {
     "name": "stdout",
     "output_type": "stream",
     "text": [
      "File 5735\r"
     ]
    }
   ],
   "source": [
    "src = \"Implementation/dataset/labels/\"\n",
    "dest = \"Implementation/dataset/labels_bi/\"\n",
    "i = 0\n",
    "counter = {\"0\": 0, \"1\": 0, \"2\": 0, \"3\": 0}\n",
    "\n",
    "for folder in [\"train\", \"test\", \"val\"]:\n",
    "    for file in os.listdir(src + f\"{folder}/\"):\n",
    "        with open(src + f\"{folder}/{file}\") as f:\n",
    "            text = f.readlines()\n",
    "            new_text = \"\"\n",
    "            for line in text:\n",
    "                line = line.split()\n",
    "                counter[line[0]] += 1\n",
    "                if line[0] in \"012\":\n",
    "                    line[0] = \"0\"\n",
    "                    new_text += \" \".join(line)\n",
    "                    new_text += \"\\n\"\n",
    "            with open(dest + f\"{folder}/{file}\", \"w\") as f2:\n",
    "                f2.write(new_text)\n",
    "            i += 1\n",
    "            print(f\"File {i}\", end=\"\\r\")"
   ]
  },
  {
   "cell_type": "code",
   "execution_count": 20,
   "id": "68db5e71-1197-4749-b8e7-53a2845c88c3",
   "metadata": {},
   "outputs": [
    {
     "data": {
      "text/plain": [
       "{'0': 1508, '1': 7929, '2': 3835, '3': 1911}"
      ]
     },
     "execution_count": 20,
     "metadata": {},
     "output_type": "execute_result"
    }
   ],
   "source": [
    "counter"
   ]
  },
  {
   "cell_type": "code",
   "execution_count": 23,
   "id": "6eaa87d5-b100-4b77-ab4a-86a344e41903",
   "metadata": {},
   "outputs": [
    {
     "data": {
      "text/plain": [
       "13272"
      ]
     },
     "execution_count": 23,
     "metadata": {},
     "output_type": "execute_result"
    }
   ],
   "source": [
    "1508+7929+3835"
   ]
  },
  {
   "cell_type": "code",
   "execution_count": 22,
   "id": "f3ab9222-b3fd-4a7a-9a5b-433b975280b7",
   "metadata": {},
   "outputs": [
    {
     "name": "stdout",
     "output_type": "stream",
     "text": [
      "File 5735\r"
     ]
    },
    {
     "data": {
      "text/plain": [
       "{'0': 13272, '1': 0, '2': 0, '3': 0}"
      ]
     },
     "execution_count": 22,
     "metadata": {},
     "output_type": "execute_result"
    }
   ],
   "source": [
    "src = \"Implementation/dataset/labels_bi/\"\n",
    "dest = \"Implementation/dataset/labels_bi/\"\n",
    "i = 0\n",
    "count = {\"0\": 0, \"1\": 0, \"2\": 0, \"3\": 0}\n",
    "\n",
    "for folder in [\"train\", \"test\", \"val\"]:\n",
    "    for file in os.listdir(src + f\"{folder}/\"):\n",
    "        with open(src + f\"{folder}/{file}\") as f:\n",
    "            text = f.readlines()\n",
    "            for line in text:\n",
    "                line = line.split()\n",
    "                count[line[0]] += 1\n",
    "            \n",
    "            i += 1\n",
    "            print(f\"File {i}\", end=\"\\r\")\n",
    "            \n",
    "count"
   ]
  },
  {
   "cell_type": "markdown",
   "id": "ff345ff4-1a14-4614-a3fa-fea3198a4390",
   "metadata": {},
   "source": [
    "## Method 2: Undersampling for bottles"
   ]
  },
  {
   "cell_type": "code",
   "execution_count": null,
   "id": "e7557eba-d390-475e-86bb-a6ece21bf0af",
   "metadata": {},
   "outputs": [],
   "source": [
    "src = \"Implementation/dataset/labels/\"\n",
    "i = 0\n",
    "counter = {\"0\": 0, \"1\": 0, \"2\": 0, \"3\": 0}\n",
    "\n",
    "for folder in [\"train\", \"test\", \"val\"]:\n",
    "    for file in os.listdir(src + f\"{folder}/\"):\n",
    "        with open(src + f\"{folder}/{file}\") as f:\n",
    "            text = f.readlines()\n",
    "            new_text = \"\"\n",
    "            for line in text:\n",
    "                line = line.split()\n",
    "                counter[line[0]] += 1\n",
    "            i += 1\n",
    "            print(f\"File {i}\", end=\"\\r\")"
   ]
  },
  {
   "cell_type": "markdown",
   "id": "f3ff41ca-f9dd-4720-9a70-9a0b0fa06f96",
   "metadata": {},
   "source": [
    "## Method 3"
   ]
  },
  {
   "cell_type": "code",
   "execution_count": 24,
   "id": "c82fca8c-907b-4d3f-a1cf-4dbc809b5924",
   "metadata": {},
   "outputs": [],
   "source": [
    "%mkdir \"Implementation/dataset/labels_b2\"\n",
    "\n",
    "%mkdir \"Implementation/dataset/labels_b2/test\"\n",
    "%mkdir \"Implementation/dataset/labels_b2/train\"\n",
    "%mkdir \"Implementation/dataset/labels_b2/val\""
   ]
  },
  {
   "cell_type": "code",
   "execution_count": 25,
   "id": "061b2c7f-8a0f-4188-8b0d-db92ca604903",
   "metadata": {},
   "outputs": [
    {
     "name": "stdout",
     "output_type": "stream",
     "text": [
      "File 5735\r"
     ]
    }
   ],
   "source": [
    "src = \"Implementation/dataset/labels/\"\n",
    "dest = \"Implementation/dataset/labels_b2/\"\n",
    "i = 0\n",
    "counter = {\"0\": 0, \"1\": 0, \"2\": 0, \"3\": 0}\n",
    "\n",
    "for folder in [\"train\", \"test\", \"val\"]:\n",
    "    for file in os.listdir(src + f\"{folder}/\"):\n",
    "        with open(src + f\"{folder}/{file}\") as f:\n",
    "            text = f.readlines()\n",
    "            new_text = \"\"\n",
    "            for line in text:\n",
    "                line = line.split()\n",
    "                counter[line[0]] += 1\n",
    "                if line[0] in \"01\":\n",
    "                    line[0] = \"0\"\n",
    "                    new_text += \" \".join(line)\n",
    "                    new_text += \"\\n\"\n",
    "            with open(dest + f\"{folder}/{file}\", \"w\") as f2:\n",
    "                f2.write(new_text)\n",
    "            i += 1\n",
    "            print(f\"File {i}\", end=\"\\r\")"
   ]
  },
  {
   "cell_type": "markdown",
   "id": "f3fe65a4-75ab-452f-a2a2-430ea4e4e9c8",
   "metadata": {},
   "source": [
    "# Reloading model\n",
    "https://stackoverflow.com/questions/70167811/how-to-load-custom-model-in-pytorch\n",
    "\n",
    "`model = torch.hub.load('ultralytics/yolov5', 'custom', path='yolov5/runs/train/exp/weights/last.pt', force_reload=True) `"
   ]
  }
 ],
 "metadata": {
  "kernelspec": {
   "display_name": "Python 3 (ipykernel)",
   "language": "python",
   "name": "python3"
  },
  "language_info": {
   "codemirror_mode": {
    "name": "ipython",
    "version": 3
   },
   "file_extension": ".py",
   "mimetype": "text/x-python",
   "name": "python",
   "nbconvert_exporter": "python",
   "pygments_lexer": "ipython3",
   "version": "3.9.12"
  }
 },
 "nbformat": 4,
 "nbformat_minor": 5
}
