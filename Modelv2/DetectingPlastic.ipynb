{
 "cells": [
  {
   "cell_type": "markdown",
   "id": "a5870ea1-1532-4802-abb3-7057dc15e5a3",
   "metadata": {
    "tags": []
   },
   "source": [
    "# Detecting Plastic in Rivers\n",
    "\n",
    "Overall idea:\n",
    "> Find all objects in the image using segmentation without class labels, then classify each found object as plastic or not plastic"
   ]
  },
  {
   "cell_type": "markdown",
   "id": "30ed2946-8eca-4150-9c08-9461eabb63d2",
   "metadata": {},
   "source": [
    "## Data Prepration"
   ]
  },
  {
   "cell_type": "markdown",
   "id": "0c050b9c-e35f-4a5a-b2ce-c853fdfb84db",
   "metadata": {},
   "source": [
    "## Segmentation module"
   ]
  },
  {
   "cell_type": "markdown",
   "id": "c61fc00c-7fb5-4d95-8923-37135d00342d",
   "metadata": {},
   "source": [
    "## Classifier training"
   ]
  },
  {
   "cell_type": "markdown",
   "id": "4139e314-a557-4122-92a0-230682c3b241",
   "metadata": {},
   "source": [
    "## Combined model"
   ]
  }
 ],
 "metadata": {
  "kernelspec": {
   "display_name": "Python 3 (ipykernel)",
   "language": "python",
   "name": "python3"
  },
  "language_info": {
   "codemirror_mode": {
    "name": "ipython",
    "version": 3
   },
   "file_extension": ".py",
   "mimetype": "text/x-python",
   "name": "python",
   "nbconvert_exporter": "python",
   "pygments_lexer": "ipython3",
   "version": "3.9.12"
  }
 },
 "nbformat": 4,
 "nbformat_minor": 5
}
